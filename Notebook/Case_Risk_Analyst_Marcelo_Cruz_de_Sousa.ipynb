{
  "nbformat": 4,
  "nbformat_minor": 0,
  "metadata": {
    "colab": {
      "provenance": []
    },
    "kernelspec": {
      "name": "python3",
      "display_name": "Python 3"
    },
    "language_info": {
      "name": "python"
    }
  },
  "cells": [
    {
      "cell_type": "markdown",
      "source": [
        "## Dicionário de dados"
      ],
      "metadata": {
        "id": "PjDkLKDO_tt_"
      }
    },
    {
      "cell_type": "markdown",
      "source": [
        "* **`transaction_id`**\n",
        "    * **Descrição:** Identificador numérico único para cada transação.\n",
        "    * **Valores:** Números inteiros. Ex: `21320398`.\n",
        "\n",
        "* **`merchant_id`**\n",
        "    * **Descrição:** Identificador numérico único para cada lojista onde a compra foi realizada.\n",
        "    * **Valores:** Números inteiros. Ex: `29744`.\n",
        "\n",
        "* **`user_id`**\n",
        "    * **Descrição:** Identificador numérico único para cada cliente cadastrado.\n",
        "    * **Valores:** Números inteiros. Ex: `97051`.\n",
        "\n",
        "* **`card_number`**\n",
        "    * **Descrição:** Número do cartão de crédito utilizado na transação (parcialmente oculto).\n",
        "    * **Valores:** Sequência de números mascarada. Ex: `434505******9116`.\n",
        "\n",
        "* **`transaction_date`**\n",
        "    * **Descrição:** Data e hora exatas em que a transação ocorreu.\n",
        "    * **Valores:** Data e hora em formato ISO. Ex: `2019-12-01T23:16:32.812632`.\n",
        "\n",
        "* **`transaction_amount`**\n",
        "    * **Descrição:** O valor monetário da transação.\n",
        "    * **Valores:** Números decimais (float). Ex: `374.56`.\n",
        "\n",
        "* **`device_id`**\n",
        "    * **Descrição:** Identificador numérico único do dispositivo (ex: celular, computador) usado para fazer a transação.\n",
        "    * **Valores:** Números inteiros (Ex: `285475`) ou valores nulos/ausentes.\n",
        "\n",
        "* **`has_cbk`**\n",
        "    * **Descrição:** Variável que indica se a transação sofreu um estorno por fraude (`True`) ou se foi uma transação legítima (`False`).\n",
        "    * **Valores:** `True` (transação fraudulenta) ou `False` (transação legítima)."
      ],
      "metadata": {
        "id": "h1-tNLFT_yoR"
      }
    },
    {
      "cell_type": "markdown",
      "source": [
        "## Análise Exploratória dos Dados"
      ],
      "metadata": {
        "id": "14jGFwY78Ewk"
      }
    },
    {
      "cell_type": "markdown",
      "source": [
        "### 1. Leitura dos dados"
      ],
      "metadata": {
        "id": "hylgkvS23Jxo"
      }
    },
    {
      "cell_type": "code",
      "metadata": {
        "id": "657b35e6"
      },
      "source": [
        "import pandas as pd\n",
        "import numpy as np\n",
        "import matplotlib.pyplot as plt\n",
        "import seaborn as sns"
      ],
      "execution_count": 1,
      "outputs": []
    },
    {
      "cell_type": "code",
      "source": [
        "url = 'https://gist.githubusercontent.com/cloudwalk-tests/76993838e65d7e0f988f40f1b1909c97/raw/295d9f7cb8fdf08f3cb3bdf1696ab245d5b5c1c9/transactional-sample.csv'"
      ],
      "metadata": {
        "id": "HoYCrcoh3P71"
      },
      "execution_count": 2,
      "outputs": []
    },
    {
      "cell_type": "code",
      "source": [
        "df = pd.read_csv(url)"
      ],
      "metadata": {
        "id": "aADXyCO43FJv"
      },
      "execution_count": 3,
      "outputs": []
    },
    {
      "cell_type": "code",
      "source": [
        "df.head()"
      ],
      "metadata": {
        "colab": {
          "base_uri": "https://localhost:8080/",
          "height": 206
        },
        "id": "_2ia8TsU3TWM",
        "outputId": "b26fc946-4679-4932-c5ae-e9658ca90683"
      },
      "execution_count": 4,
      "outputs": [
        {
          "output_type": "execute_result",
          "data": {
            "text/plain": [
              "   transaction_id  merchant_id  user_id       card_number  \\\n",
              "0        21320398        29744    97051  434505******9116   \n",
              "1        21320399        92895     2708  444456******4210   \n",
              "2        21320400        47759    14777  425850******7024   \n",
              "3        21320401        68657    69758  464296******3991   \n",
              "4        21320402        54075    64367  650487******6116   \n",
              "\n",
              "             transaction_date  transaction_amount  device_id  has_cbk  \n",
              "0  2019-12-01T23:16:32.812632              374.56   285475.0    False  \n",
              "1  2019-12-01T22:45:37.873639              734.87   497105.0     True  \n",
              "2  2019-12-01T22:22:43.021495              760.36        NaN    False  \n",
              "3  2019-12-01T21:59:19.797129             2556.13        NaN     True  \n",
              "4  2019-12-01T21:30:53.347051               55.36   860232.0    False  "
            ],
            "text/html": [
              "\n",
              "  <div id=\"df-5d1e7876-3afe-45aa-816e-935f85280f72\" class=\"colab-df-container\">\n",
              "    <div>\n",
              "<style scoped>\n",
              "    .dataframe tbody tr th:only-of-type {\n",
              "        vertical-align: middle;\n",
              "    }\n",
              "\n",
              "    .dataframe tbody tr th {\n",
              "        vertical-align: top;\n",
              "    }\n",
              "\n",
              "    .dataframe thead th {\n",
              "        text-align: right;\n",
              "    }\n",
              "</style>\n",
              "<table border=\"1\" class=\"dataframe\">\n",
              "  <thead>\n",
              "    <tr style=\"text-align: right;\">\n",
              "      <th></th>\n",
              "      <th>transaction_id</th>\n",
              "      <th>merchant_id</th>\n",
              "      <th>user_id</th>\n",
              "      <th>card_number</th>\n",
              "      <th>transaction_date</th>\n",
              "      <th>transaction_amount</th>\n",
              "      <th>device_id</th>\n",
              "      <th>has_cbk</th>\n",
              "    </tr>\n",
              "  </thead>\n",
              "  <tbody>\n",
              "    <tr>\n",
              "      <th>0</th>\n",
              "      <td>21320398</td>\n",
              "      <td>29744</td>\n",
              "      <td>97051</td>\n",
              "      <td>434505******9116</td>\n",
              "      <td>2019-12-01T23:16:32.812632</td>\n",
              "      <td>374.56</td>\n",
              "      <td>285475.0</td>\n",
              "      <td>False</td>\n",
              "    </tr>\n",
              "    <tr>\n",
              "      <th>1</th>\n",
              "      <td>21320399</td>\n",
              "      <td>92895</td>\n",
              "      <td>2708</td>\n",
              "      <td>444456******4210</td>\n",
              "      <td>2019-12-01T22:45:37.873639</td>\n",
              "      <td>734.87</td>\n",
              "      <td>497105.0</td>\n",
              "      <td>True</td>\n",
              "    </tr>\n",
              "    <tr>\n",
              "      <th>2</th>\n",
              "      <td>21320400</td>\n",
              "      <td>47759</td>\n",
              "      <td>14777</td>\n",
              "      <td>425850******7024</td>\n",
              "      <td>2019-12-01T22:22:43.021495</td>\n",
              "      <td>760.36</td>\n",
              "      <td>NaN</td>\n",
              "      <td>False</td>\n",
              "    </tr>\n",
              "    <tr>\n",
              "      <th>3</th>\n",
              "      <td>21320401</td>\n",
              "      <td>68657</td>\n",
              "      <td>69758</td>\n",
              "      <td>464296******3991</td>\n",
              "      <td>2019-12-01T21:59:19.797129</td>\n",
              "      <td>2556.13</td>\n",
              "      <td>NaN</td>\n",
              "      <td>True</td>\n",
              "    </tr>\n",
              "    <tr>\n",
              "      <th>4</th>\n",
              "      <td>21320402</td>\n",
              "      <td>54075</td>\n",
              "      <td>64367</td>\n",
              "      <td>650487******6116</td>\n",
              "      <td>2019-12-01T21:30:53.347051</td>\n",
              "      <td>55.36</td>\n",
              "      <td>860232.0</td>\n",
              "      <td>False</td>\n",
              "    </tr>\n",
              "  </tbody>\n",
              "</table>\n",
              "</div>\n",
              "    <div class=\"colab-df-buttons\">\n",
              "\n",
              "  <div class=\"colab-df-container\">\n",
              "    <button class=\"colab-df-convert\" onclick=\"convertToInteractive('df-5d1e7876-3afe-45aa-816e-935f85280f72')\"\n",
              "            title=\"Convert this dataframe to an interactive table.\"\n",
              "            style=\"display:none;\">\n",
              "\n",
              "  <svg xmlns=\"http://www.w3.org/2000/svg\" height=\"24px\" viewBox=\"0 -960 960 960\">\n",
              "    <path d=\"M120-120v-720h720v720H120Zm60-500h600v-160H180v160Zm220 220h160v-160H400v160Zm0 220h160v-160H400v160ZM180-400h160v-160H180v160Zm440 0h160v-160H620v160ZM180-180h160v-160H180v160Zm440 0h160v-160H620v160Z\"/>\n",
              "  </svg>\n",
              "    </button>\n",
              "\n",
              "  <style>\n",
              "    .colab-df-container {\n",
              "      display:flex;\n",
              "      gap: 12px;\n",
              "    }\n",
              "\n",
              "    .colab-df-convert {\n",
              "      background-color: #E8F0FE;\n",
              "      border: none;\n",
              "      border-radius: 50%;\n",
              "      cursor: pointer;\n",
              "      display: none;\n",
              "      fill: #1967D2;\n",
              "      height: 32px;\n",
              "      padding: 0 0 0 0;\n",
              "      width: 32px;\n",
              "    }\n",
              "\n",
              "    .colab-df-convert:hover {\n",
              "      background-color: #E2EBFA;\n",
              "      box-shadow: 0px 1px 2px rgba(60, 64, 67, 0.3), 0px 1px 3px 1px rgba(60, 64, 67, 0.15);\n",
              "      fill: #174EA6;\n",
              "    }\n",
              "\n",
              "    .colab-df-buttons div {\n",
              "      margin-bottom: 4px;\n",
              "    }\n",
              "\n",
              "    [theme=dark] .colab-df-convert {\n",
              "      background-color: #3B4455;\n",
              "      fill: #D2E3FC;\n",
              "    }\n",
              "\n",
              "    [theme=dark] .colab-df-convert:hover {\n",
              "      background-color: #434B5C;\n",
              "      box-shadow: 0px 1px 3px 1px rgba(0, 0, 0, 0.15);\n",
              "      filter: drop-shadow(0px 1px 2px rgba(0, 0, 0, 0.3));\n",
              "      fill: #FFFFFF;\n",
              "    }\n",
              "  </style>\n",
              "\n",
              "    <script>\n",
              "      const buttonEl =\n",
              "        document.querySelector('#df-5d1e7876-3afe-45aa-816e-935f85280f72 button.colab-df-convert');\n",
              "      buttonEl.style.display =\n",
              "        google.colab.kernel.accessAllowed ? 'block' : 'none';\n",
              "\n",
              "      async function convertToInteractive(key) {\n",
              "        const element = document.querySelector('#df-5d1e7876-3afe-45aa-816e-935f85280f72');\n",
              "        const dataTable =\n",
              "          await google.colab.kernel.invokeFunction('convertToInteractive',\n",
              "                                                    [key], {});\n",
              "        if (!dataTable) return;\n",
              "\n",
              "        const docLinkHtml = 'Like what you see? Visit the ' +\n",
              "          '<a target=\"_blank\" href=https://colab.research.google.com/notebooks/data_table.ipynb>data table notebook</a>'\n",
              "          + ' to learn more about interactive tables.';\n",
              "        element.innerHTML = '';\n",
              "        dataTable['output_type'] = 'display_data';\n",
              "        await google.colab.output.renderOutput(dataTable, element);\n",
              "        const docLink = document.createElement('div');\n",
              "        docLink.innerHTML = docLinkHtml;\n",
              "        element.appendChild(docLink);\n",
              "      }\n",
              "    </script>\n",
              "  </div>\n",
              "\n",
              "\n",
              "    <div id=\"df-322c4a5a-af9a-47dc-89bf-cfcdf942c97b\">\n",
              "      <button class=\"colab-df-quickchart\" onclick=\"quickchart('df-322c4a5a-af9a-47dc-89bf-cfcdf942c97b')\"\n",
              "                title=\"Suggest charts\"\n",
              "                style=\"display:none;\">\n",
              "\n",
              "<svg xmlns=\"http://www.w3.org/2000/svg\" height=\"24px\"viewBox=\"0 0 24 24\"\n",
              "     width=\"24px\">\n",
              "    <g>\n",
              "        <path d=\"M19 3H5c-1.1 0-2 .9-2 2v14c0 1.1.9 2 2 2h14c1.1 0 2-.9 2-2V5c0-1.1-.9-2-2-2zM9 17H7v-7h2v7zm4 0h-2V7h2v10zm4 0h-2v-4h2v4z\"/>\n",
              "    </g>\n",
              "</svg>\n",
              "      </button>\n",
              "\n",
              "<style>\n",
              "  .colab-df-quickchart {\n",
              "      --bg-color: #E8F0FE;\n",
              "      --fill-color: #1967D2;\n",
              "      --hover-bg-color: #E2EBFA;\n",
              "      --hover-fill-color: #174EA6;\n",
              "      --disabled-fill-color: #AAA;\n",
              "      --disabled-bg-color: #DDD;\n",
              "  }\n",
              "\n",
              "  [theme=dark] .colab-df-quickchart {\n",
              "      --bg-color: #3B4455;\n",
              "      --fill-color: #D2E3FC;\n",
              "      --hover-bg-color: #434B5C;\n",
              "      --hover-fill-color: #FFFFFF;\n",
              "      --disabled-bg-color: #3B4455;\n",
              "      --disabled-fill-color: #666;\n",
              "  }\n",
              "\n",
              "  .colab-df-quickchart {\n",
              "    background-color: var(--bg-color);\n",
              "    border: none;\n",
              "    border-radius: 50%;\n",
              "    cursor: pointer;\n",
              "    display: none;\n",
              "    fill: var(--fill-color);\n",
              "    height: 32px;\n",
              "    padding: 0;\n",
              "    width: 32px;\n",
              "  }\n",
              "\n",
              "  .colab-df-quickchart:hover {\n",
              "    background-color: var(--hover-bg-color);\n",
              "    box-shadow: 0 1px 2px rgba(60, 64, 67, 0.3), 0 1px 3px 1px rgba(60, 64, 67, 0.15);\n",
              "    fill: var(--button-hover-fill-color);\n",
              "  }\n",
              "\n",
              "  .colab-df-quickchart-complete:disabled,\n",
              "  .colab-df-quickchart-complete:disabled:hover {\n",
              "    background-color: var(--disabled-bg-color);\n",
              "    fill: var(--disabled-fill-color);\n",
              "    box-shadow: none;\n",
              "  }\n",
              "\n",
              "  .colab-df-spinner {\n",
              "    border: 2px solid var(--fill-color);\n",
              "    border-color: transparent;\n",
              "    border-bottom-color: var(--fill-color);\n",
              "    animation:\n",
              "      spin 1s steps(1) infinite;\n",
              "  }\n",
              "\n",
              "  @keyframes spin {\n",
              "    0% {\n",
              "      border-color: transparent;\n",
              "      border-bottom-color: var(--fill-color);\n",
              "      border-left-color: var(--fill-color);\n",
              "    }\n",
              "    20% {\n",
              "      border-color: transparent;\n",
              "      border-left-color: var(--fill-color);\n",
              "      border-top-color: var(--fill-color);\n",
              "    }\n",
              "    30% {\n",
              "      border-color: transparent;\n",
              "      border-left-color: var(--fill-color);\n",
              "      border-top-color: var(--fill-color);\n",
              "      border-right-color: var(--fill-color);\n",
              "    }\n",
              "    40% {\n",
              "      border-color: transparent;\n",
              "      border-right-color: var(--fill-color);\n",
              "      border-top-color: var(--fill-color);\n",
              "    }\n",
              "    60% {\n",
              "      border-color: transparent;\n",
              "      border-right-color: var(--fill-color);\n",
              "    }\n",
              "    80% {\n",
              "      border-color: transparent;\n",
              "      border-right-color: var(--fill-color);\n",
              "      border-bottom-color: var(--fill-color);\n",
              "    }\n",
              "    90% {\n",
              "      border-color: transparent;\n",
              "      border-bottom-color: var(--fill-color);\n",
              "    }\n",
              "  }\n",
              "</style>\n",
              "\n",
              "      <script>\n",
              "        async function quickchart(key) {\n",
              "          const quickchartButtonEl =\n",
              "            document.querySelector('#' + key + ' button');\n",
              "          quickchartButtonEl.disabled = true;  // To prevent multiple clicks.\n",
              "          quickchartButtonEl.classList.add('colab-df-spinner');\n",
              "          try {\n",
              "            const charts = await google.colab.kernel.invokeFunction(\n",
              "                'suggestCharts', [key], {});\n",
              "          } catch (error) {\n",
              "            console.error('Error during call to suggestCharts:', error);\n",
              "          }\n",
              "          quickchartButtonEl.classList.remove('colab-df-spinner');\n",
              "          quickchartButtonEl.classList.add('colab-df-quickchart-complete');\n",
              "        }\n",
              "        (() => {\n",
              "          let quickchartButtonEl =\n",
              "            document.querySelector('#df-322c4a5a-af9a-47dc-89bf-cfcdf942c97b button');\n",
              "          quickchartButtonEl.style.display =\n",
              "            google.colab.kernel.accessAllowed ? 'block' : 'none';\n",
              "        })();\n",
              "      </script>\n",
              "    </div>\n",
              "\n",
              "    </div>\n",
              "  </div>\n"
            ],
            "application/vnd.google.colaboratory.intrinsic+json": {
              "type": "dataframe",
              "variable_name": "df",
              "summary": "{\n  \"name\": \"df\",\n  \"rows\": 3199,\n  \"fields\": [\n    {\n      \"column\": \"transaction_id\",\n      \"properties\": {\n        \"dtype\": \"number\",\n        \"std\": 923,\n        \"min\": 21320398,\n        \"max\": 21323596,\n        \"num_unique_values\": 3199,\n        \"samples\": [\n          21322839,\n          21321325,\n          21321000\n        ],\n        \"semantic_type\": \"\",\n        \"description\": \"\"\n      }\n    },\n    {\n      \"column\": \"merchant_id\",\n      \"properties\": {\n        \"dtype\": \"number\",\n        \"std\": 29100,\n        \"min\": 16,\n        \"max\": 99799,\n        \"num_unique_values\": 1756,\n        \"samples\": [\n          43771,\n          52359,\n          51744\n        ],\n        \"semantic_type\": \"\",\n        \"description\": \"\"\n      }\n    },\n    {\n      \"column\": \"user_id\",\n      \"properties\": {\n        \"dtype\": \"number\",\n        \"std\": 29515,\n        \"min\": 6,\n        \"max\": 99974,\n        \"num_unique_values\": 2704,\n        \"samples\": [\n          86620,\n          41092,\n          94240\n        ],\n        \"semantic_type\": \"\",\n        \"description\": \"\"\n      }\n    },\n    {\n      \"column\": \"card_number\",\n      \"properties\": {\n        \"dtype\": \"string\",\n        \"num_unique_values\": 2925,\n        \"samples\": [\n          \"485464******8740\",\n          \"498453******3182\",\n          \"528392******1875\"\n        ],\n        \"semantic_type\": \"\",\n        \"description\": \"\"\n      }\n    },\n    {\n      \"column\": \"transaction_date\",\n      \"properties\": {\n        \"dtype\": \"object\",\n        \"num_unique_values\": 3199,\n        \"samples\": [\n          \"2019-11-18T16:03:21.232777\",\n          \"2019-11-28T17:21:42.715158\",\n          \"2019-11-29T16:36:24.448368\"\n        ],\n        \"semantic_type\": \"\",\n        \"description\": \"\"\n      }\n    },\n    {\n      \"column\": \"transaction_amount\",\n      \"properties\": {\n        \"dtype\": \"number\",\n        \"std\": 889.0959040800284,\n        \"min\": 1.22,\n        \"max\": 4097.21,\n        \"num_unique_values\": 3124,\n        \"samples\": [\n          688.03,\n          664.29,\n          389.59\n        ],\n        \"semantic_type\": \"\",\n        \"description\": \"\"\n      }\n    },\n    {\n      \"column\": \"device_id\",\n      \"properties\": {\n        \"dtype\": \"number\",\n        \"std\": 283785.5845453894,\n        \"min\": 2.0,\n        \"max\": 999843.0,\n        \"num_unique_values\": 1996,\n        \"samples\": [\n          471801.0,\n          170620.0,\n          896735.0\n        ],\n        \"semantic_type\": \"\",\n        \"description\": \"\"\n      }\n    },\n    {\n      \"column\": \"has_cbk\",\n      \"properties\": {\n        \"dtype\": \"boolean\",\n        \"num_unique_values\": 2,\n        \"samples\": [\n          true,\n          false\n        ],\n        \"semantic_type\": \"\",\n        \"description\": \"\"\n      }\n    }\n  ]\n}"
            }
          },
          "metadata": {},
          "execution_count": 4
        }
      ]
    },
    {
      "cell_type": "markdown",
      "source": [
        "Inicialmente, podemos notar que:\n",
        "*   Temos 4 colunas de identificação (`transaction_id`, `merchant_id`, `user_id` e `device_id`);\n",
        "*   A coluna `device_id` possui valores nulos;\n",
        "*   Temos a data e hora da compra na coluna `transaction_date`;\n",
        "*   Temos o valor da compra na coluna `transaction_amount`;\n",
        "*   A coluna `has_cbk` é a coluna que define se a transação é fradulenta ou não.\n",
        "\n",
        "\n"
      ],
      "metadata": {
        "id": "m5wRJ2AzG7RY"
      }
    },
    {
      "cell_type": "markdown",
      "source": [
        "### 2. Exploração dos dados"
      ],
      "metadata": {
        "id": "effZCbsl__X5"
      }
    },
    {
      "cell_type": "code",
      "source": [
        "df.info()"
      ],
      "metadata": {
        "colab": {
          "base_uri": "https://localhost:8080/"
        },
        "id": "XxBFRYGVAgiv",
        "outputId": "85e1fb9d-4726-4061-e027-62b0176fa4f2"
      },
      "execution_count": 5,
      "outputs": [
        {
          "output_type": "stream",
          "name": "stdout",
          "text": [
            "<class 'pandas.core.frame.DataFrame'>\n",
            "RangeIndex: 3199 entries, 0 to 3198\n",
            "Data columns (total 8 columns):\n",
            " #   Column              Non-Null Count  Dtype  \n",
            "---  ------              --------------  -----  \n",
            " 0   transaction_id      3199 non-null   int64  \n",
            " 1   merchant_id         3199 non-null   int64  \n",
            " 2   user_id             3199 non-null   int64  \n",
            " 3   card_number         3199 non-null   object \n",
            " 4   transaction_date    3199 non-null   object \n",
            " 5   transaction_amount  3199 non-null   float64\n",
            " 6   device_id           2369 non-null   float64\n",
            " 7   has_cbk             3199 non-null   bool   \n",
            "dtypes: bool(1), float64(2), int64(3), object(2)\n",
            "memory usage: 178.2+ KB\n"
          ]
        }
      ]
    },
    {
      "cell_type": "code",
      "source": [
        "# Porcentagem dos valores nulos\n",
        "(df.isnull().sum() / df.shape[0] * 100).round(2)"
      ],
      "metadata": {
        "colab": {
          "base_uri": "https://localhost:8080/",
          "height": 335
        },
        "id": "kzV-7ht_AEgs",
        "outputId": "8c395d64-4d58-465c-ab1c-6576f6fa0c0e"
      },
      "execution_count": 6,
      "outputs": [
        {
          "output_type": "execute_result",
          "data": {
            "text/plain": [
              "transaction_id         0.00\n",
              "merchant_id            0.00\n",
              "user_id                0.00\n",
              "card_number            0.00\n",
              "transaction_date       0.00\n",
              "transaction_amount     0.00\n",
              "device_id             25.95\n",
              "has_cbk                0.00\n",
              "dtype: float64"
            ],
            "text/html": [
              "<div>\n",
              "<style scoped>\n",
              "    .dataframe tbody tr th:only-of-type {\n",
              "        vertical-align: middle;\n",
              "    }\n",
              "\n",
              "    .dataframe tbody tr th {\n",
              "        vertical-align: top;\n",
              "    }\n",
              "\n",
              "    .dataframe thead th {\n",
              "        text-align: right;\n",
              "    }\n",
              "</style>\n",
              "<table border=\"1\" class=\"dataframe\">\n",
              "  <thead>\n",
              "    <tr style=\"text-align: right;\">\n",
              "      <th></th>\n",
              "      <th>0</th>\n",
              "    </tr>\n",
              "  </thead>\n",
              "  <tbody>\n",
              "    <tr>\n",
              "      <th>transaction_id</th>\n",
              "      <td>0.00</td>\n",
              "    </tr>\n",
              "    <tr>\n",
              "      <th>merchant_id</th>\n",
              "      <td>0.00</td>\n",
              "    </tr>\n",
              "    <tr>\n",
              "      <th>user_id</th>\n",
              "      <td>0.00</td>\n",
              "    </tr>\n",
              "    <tr>\n",
              "      <th>card_number</th>\n",
              "      <td>0.00</td>\n",
              "    </tr>\n",
              "    <tr>\n",
              "      <th>transaction_date</th>\n",
              "      <td>0.00</td>\n",
              "    </tr>\n",
              "    <tr>\n",
              "      <th>transaction_amount</th>\n",
              "      <td>0.00</td>\n",
              "    </tr>\n",
              "    <tr>\n",
              "      <th>device_id</th>\n",
              "      <td>25.95</td>\n",
              "    </tr>\n",
              "    <tr>\n",
              "      <th>has_cbk</th>\n",
              "      <td>0.00</td>\n",
              "    </tr>\n",
              "  </tbody>\n",
              "</table>\n",
              "</div><br><label><b>dtype:</b> float64</label>"
            ]
          },
          "metadata": {},
          "execution_count": 6
        }
      ]
    },
    {
      "cell_type": "markdown",
      "source": [
        "A ausência de valores na coluna `device_id` pode significar duas coisas: 1. problema na coleta de dados; 2. tentativa de esconder o dispositivo propositalmente.\n",
        "\n",
        "Nesse caso, é importante seguir com os dados faltantes na base de dados e não realizar tratamentos como exclusão (podemos perder muitos dados importantes) ou substituição (dados únicos como IDs não podem ser substituídos).\n",
        "\n",
        "Pensando nisso, vamos levar em consideração a hipótese 2, de que houve uma tentativa de esconder o dispositivo utilizado na compra. Com isso, podemos ter um dado relevante para identificar compras fraudulentas."
      ],
      "metadata": {
        "id": "aHTkEsbHKGvO"
      }
    },
    {
      "cell_type": "markdown",
      "source": [
        "### 3. Análise da coluna `device_id`"
      ],
      "metadata": {
        "id": "efxqIcS0LJIC"
      }
    },
    {
      "cell_type": "markdown",
      "source": [
        "Seguindo com a nossa hipótese de que os valores nulos da coluna `device_id` signficam tentativa de esconder o despositivo utilizado na compra, vamos analisar de esse campo está relacionado com a coluna `has_cbk`."
      ],
      "metadata": {
        "id": "5UpWOgC-LnSb"
      }
    },
    {
      "cell_type": "code",
      "source": [
        "# Categoria para verificar se o dipositivo está presente ou não (True - presente, False - ausente)\n",
        "df['device_id_presente'] = df['device_id'].notna()\n",
        "\n",
        "# Taxa de chargeback por dispositivo presente e faltante\n",
        "taxa_cbk_por_device = df.groupby('device_id_presente')['has_cbk'].mean()\n",
        "\n",
        "print(\"Taxa de Chargeback (com vs. sem device_id):\")\n",
        "print(taxa_cbk_por_device)"
      ],
      "metadata": {
        "colab": {
          "base_uri": "https://localhost:8080/"
        },
        "id": "Ngy1W0gIAdDT",
        "outputId": "cbd43eb5-2659-4bdf-9c06-1b069f781297"
      },
      "execution_count": 14,
      "outputs": [
        {
          "output_type": "stream",
          "name": "stdout",
          "text": [
            "Taxa de Chargeback (com vs. sem device_id):\n",
            "device_id_presente\n",
            "False    0.080723\n",
            "True     0.136767\n",
            "Name: has_cbk, dtype: float64\n"
          ]
        }
      ]
    },
    {
      "cell_type": "markdown",
      "source": [
        "Com base no resultado apresentado acima, podemos perceber que a nossa hipótese inicial sobre os dados nulos na coluna `device_id` não se mostrou verdadeira, pelo contrário, tivemos uma porcentagem maior para taxa de chargeback quando o aparelho está presente (13%) do que quando está ausente (8%).\n",
        "\n"
      ],
      "metadata": {
        "id": "mmCBHepxNvS-"
      }
    },
    {
      "cell_type": "markdown",
      "source": [
        "Como percebemos que o problema não é a falta de dispositivos nas transações, podemos investigar o `device_id` de uma outra perspectiva.\n",
        "\n",
        "Nesse caso, em vez de olhar se o produto em falta tem relação com o chargeback, podemos focar na **repetição** de dispositivos nas compras.\n",
        "\n",
        "Dessa forma, podemos identificar possíveis recorrências de chargebacks em dispositivos específicos.\n"
      ],
      "metadata": {
        "id": "IwWxZiR7Z0J3"
      }
    },
    {
      "cell_type": "markdown",
      "source": [
        "Agora, vamos analisar a quantidade de transações por produtos e verificar a taxa de chargeback."
      ],
      "metadata": {
        "id": "lBrHIQmca3CG"
      }
    },
    {
      "cell_type": "code",
      "source": [
        "# Agrupar por dispositivo\n",
        "device_analysis = df.groupby('device_id').agg(\n",
        "    total_transacoes=('transaction_id', 'count'),\n",
        "    total_cbk=('has_cbk', 'sum')\n",
        ").reset_index()\n",
        "\n",
        "# Taxa de chargeback para cada dispositivo\n",
        "device_analysis['taxa_cbk'] = device_analysis['total_cbk'] / device_analysis['total_transacoes']\n",
        "\n",
        "# Ordenar por total_transacoes\n",
        "top_devices_suspeitos = device_analysis.sort_values(by='total_transacoes', ascending=False)\n",
        "\n",
        "# Mostrar os 15 dispositivos mais usados e suas taxas de chargeback\n",
        "print(\"Análise dos 15 dispositivos mais utilizados:\")\n",
        "print(top_devices_suspeitos.head(15))"
      ],
      "metadata": {
        "colab": {
          "base_uri": "https://localhost:8080/"
        },
        "id": "Ha6O1wnzNDMW",
        "outputId": "7e6d8a9d-bca1-4250-965c-81c6d6aac6d5"
      },
      "execution_count": 8,
      "outputs": [
        {
          "output_type": "stream",
          "name": "stdout",
          "text": [
            "Análise dos 15 dispositivos mais utilizados:\n",
            "      device_id  total_transacoes  total_cbk  taxa_cbk\n",
            "1133   563499.0                22         19  0.863636\n",
            "693    342890.0                19         15  0.789474\n",
            "198    101848.0                17         15  0.882353\n",
            "884    438940.0                14         13  0.928571\n",
            "1103   547440.0                13         12  0.923077\n",
            "541    274282.0                 8          3  0.375000\n",
            "1091   542535.0                 7          6  0.857143\n",
            "1184   589318.0                 7          0  0.000000\n",
            "446    223682.0                 7          4  0.571429\n",
            "1909   960729.0                 6          6  1.000000\n",
            "1952   978084.0                 6          4  0.666667\n",
            "515    262327.0                 6          4  0.666667\n",
            "1419   707086.0                 6          4  0.666667\n",
            "725    357277.0                 6          6  1.000000\n",
            "360    174844.0                 5          5  1.000000\n"
          ]
        }
      ]
    },
    {
      "cell_type": "markdown",
      "source": [
        "Inicialmente, observamos que transações com `device_id` presente tinham uma taxa de fraude maior (13%). Com o resultado da análise acima, notamos que esse resultado foi gerado por um pequeno número de dispositivos suspeitos. Por exemplo, o `device_id` de número `563499` foi utilizado em `22` transações, das quais `86%` resultaram em chargeback, evidenciando que um único dispositivo foi utilizado em diversos casos de chargeback.\n",
        "\n",
        "Existem até mesmo casos de dispositivos com `100%` de taxa de chargeback, como os dispositivos `960729`, `357277` e `174844`.\n",
        "\n",
        "Além disso, também podemos verificar dispositivos com baixa taxa de chargeback, como é o caso do dispositivo `589318`, utilizado 7 vezes mas com taxa de `0%`.\n",
        "\n",
        "Com esse resultado, podemos notar que as fraudes não ocorreram de forma espalhada aleatoriamente, mas de forma concentrada em alguns dispositivos."
      ],
      "metadata": {
        "id": "pP4qiYL2bvCR"
      }
    },
    {
      "cell_type": "markdown",
      "source": [
        "Agora, podemos tomar uma ação para lidar com os dispositivos suspeitos.\n",
        "\n",
        "Ação: qualquer `device_id` com mais de 3 transações e uma `taxa_cbk` acima de `80%` será adicionado a uma lista de bloqueio."
      ],
      "metadata": {
        "id": "E_kV7VrQjcnk"
      }
    },
    {
      "cell_type": "markdown",
      "source": [
        "Pensando nisso, vamos verificar quantos dispositivos da nossa base de dados se encaixa nessa regra que criamos."
      ],
      "metadata": {
        "id": "lKou_5kmknv7"
      }
    },
    {
      "cell_type": "code",
      "metadata": {
        "colab": {
          "base_uri": "https://localhost:8080/"
        },
        "id": "7fe40b07",
        "outputId": "6ab890ab-396a-478d-970c-727cb098ed20"
      },
      "source": [
        "# Filtrar dispositivos com mais de 3 transações e taxa de chargeback acima de 80%\n",
        "dispositivos_suspeitos_filtrados = top_devices_suspeitos[\n",
        "    (top_devices_suspeitos['total_transacoes'] > 3) &\n",
        "    (top_devices_suspeitos['taxa_cbk'] > 0.80)\n",
        "]\n",
        "\n",
        "print(\"Dispositivos com mais de 3 transações e taxa de chargeback acima de 80%:\")\n",
        "print(dispositivos_suspeitos_filtrados)"
      ],
      "execution_count": 9,
      "outputs": [
        {
          "output_type": "stream",
          "name": "stdout",
          "text": [
            "Dispositivos com mais de 3 transações e taxa de chargeback acima de 80%:\n",
            "      device_id  total_transacoes  total_cbk  taxa_cbk\n",
            "1133   563499.0                22         19  0.863636\n",
            "198    101848.0                17         15  0.882353\n",
            "884    438940.0                14         13  0.928571\n",
            "1103   547440.0                13         12  0.923077\n",
            "1091   542535.0                 7          6  0.857143\n",
            "1909   960729.0                 6          6  1.000000\n",
            "725    357277.0                 6          6  1.000000\n",
            "360    174844.0                 5          5  1.000000\n",
            "629    308950.0                 5          5  1.000000\n",
            "1201   597308.0                 5          5  1.000000\n",
            "1666   822562.0                 4          4  1.000000\n",
            "238    122092.0                 4          4  1.000000\n",
            "2         486.0                 4          4  1.000000\n",
            "1345   670695.0                 4          4  1.000000\n",
            "1147   570971.0                 4          4  1.000000\n",
            "1401   698520.0                 4          4  1.000000\n",
            "578    288714.0                 4          4  1.000000\n"
          ]
        }
      ]
    },
    {
      "cell_type": "markdown",
      "source": [
        "Encontramos um total de 17 dispositivos. Vamos comparar com o total de dispositivos da nossa base."
      ],
      "metadata": {
        "id": "yOyT7_90k2F3"
      }
    },
    {
      "cell_type": "code",
      "metadata": {
        "colab": {
          "base_uri": "https://localhost:8080/"
        },
        "id": "3140f57f",
        "outputId": "29456343-5176-42ae-913b-68e1f659ea00"
      },
      "source": [
        "num_unique_devices = df['device_id'].nunique()\n",
        "\n",
        "percentual_dispositivos_suspeitos = (len(dispositivos_suspeitos_filtrados) / num_unique_devices) * 100\n",
        "\n",
        "\n",
        "print(f\"Os {len(dispositivos_suspeitos_filtrados)} dispositivos de alto risco representam {percentual_dispositivos_suspeitos:.2f}% do total de dispositivos únicos.\")"
      ],
      "execution_count": 16,
      "outputs": [
        {
          "output_type": "stream",
          "name": "stdout",
          "text": [
            "Os 17 dispositivos de alto risco representam 0.85% do total de dispositivos únicos.\n"
          ]
        }
      ]
    },
    {
      "cell_type": "markdown",
      "source": [
        "Ou seja, 17 dispositivos de um total de 1996 se encaixam na nossa regra, cerca de 0.85%.\n",
        "\n",
        "Pode parecer um valor irrevelante comparado ao total, porém, podemos olhar mais afundo e investigar o quantos % da taxa de chargeback total esses 17 dispositivos representam."
      ],
      "metadata": {
        "id": "fJg9IwBjlXHu"
      }
    },
    {
      "cell_type": "code",
      "source": [
        "# Lista de dispositivos suspeitos\n",
        "lista_ids_suspeitos = dispositivos_suspeitos_filtrados['device_id']\n",
        "\n",
        "# Impacto desses dispositivos\n",
        "total_cbk_dos_17_dispositivos = dispositivos_suspeitos_filtrados['total_cbk'].sum()\n",
        "\n",
        "# Total de chargebacks em todo o dataset\n",
        "total_cbk_dataset_inteiro = df['has_cbk'].sum()\n",
        "\n",
        "# Percentual de impacto\n",
        "percentual_fraude_explicada = (total_cbk_dos_17_dispositivos / total_cbk_dataset_inteiro) * 100"
      ],
      "metadata": {
        "id": "u60r4xIgcoCH"
      },
      "execution_count": 17,
      "outputs": []
    },
    {
      "cell_type": "code",
      "source": [
        "print(f\"Número de dispositivos suspeitos: {len(lista_ids_suspeitos)}\")\n",
        "print(f\"Número total de chargebacks no dataset: {total_cbk_dataset_inteiro}\")\n",
        "print(f\"Chargebacks causados por estes {len(lista_ids_suspeitos)} dispositivos: {total_cbk_dos_17_dispositivos}\")\n",
        "print(f\"\\nEstes {len(lista_ids_suspeitos)} dispositivos (cerca de {percentual_dispositivos_suspeitos:.2f}% do total) são responsáveis por {percentual_fraude_explicada:.2f}% de TODA a fraude no dataset!\")"
      ],
      "metadata": {
        "colab": {
          "base_uri": "https://localhost:8080/"
        },
        "id": "gL-yATm_I9wu",
        "outputId": "fe5ff59d-4255-4c8b-9a55-d4a8710af26f"
      },
      "execution_count": 18,
      "outputs": [
        {
          "output_type": "stream",
          "name": "stdout",
          "text": [
            "Número de dispositivos suspeitos: 17\n",
            "Número total de chargebacks no dataset: 391\n",
            "Chargebacks causados por estes 17 dispositivos: 120\n",
            "\n",
            "Estes 17 dispositivos (cerca de 0.85% do total) são responsáveis por 30.69% de TODA a fraude no dataset!\n"
          ]
        }
      ]
    },
    {
      "cell_type": "markdown",
      "source": [
        "Tivemos uma descoberta muito interessante, apenas `0.85%` dos dispositivos são responsáveis por `30.69%` dos chargebacks.\n",
        "\n",
        "Uma regra simples de bloqueio de dispositivos baseada em reputação (mais de 3 transações e 80% de fraude) teria prevenido quase um terço das perdas por fraude, com um impacto quase nulo em clientes legítimos."
      ],
      "metadata": {
        "id": "DkcUmfKnoWRE"
      }
    },
    {
      "cell_type": "markdown",
      "source": [
        "## Conclusão"
      ],
      "metadata": {
        "id": "PPex9jDbq-43"
      }
    },
    {
      "cell_type": "markdown",
      "source": [
        "A análise dos dados revelou que os casos de chargeback que não são aleatórios, mas sim concentrados.\n",
        "\n",
        "A investigação da coluna `device_id`, a única com valores ausentes (`~25%`), nos trouxe as seguintes informações:\n",
        "\n",
        "1.   A hipótese inicial de que a ausência de `device_id` indicaria fraude não foi confirmada. Na verdade, transações com `device_id` presente tiveram uma taxa de chargeback maior (`13.7%`) do que as ausentes (`8.1%`).\n",
        "\n",
        "2.   Descobrimos que a maior parte dos chargebacks eram causados por um pequeno número de dispositivos. Um grupo de 17 dispositivos (menos de 1% do total de dispositivos únicos) que se enquadram em uma regra de alto risco (>3 transações e >80% de taxa de chargeback).\n",
        "\n",
        "3.   Estes 17 dispositivos foram responsáveis, sozinhos, por 120 chargebacks, o que representa 30,69% de todo o prejuízo por fraude no dataset.\n"
      ],
      "metadata": {
        "id": "q4-Ov2e-v3ID"
      }
    },
    {
      "cell_type": "markdown",
      "source": [
        "Esta análise nos mostra que a implementação de um sistema de reputação e bloqueio de dispositivos é a recomendação de maior impacto e precisão para a prevenção de fraudes nesta base de dados.\n",
        "\n",
        "Os detalhes completos da solução e as recomendações de negócio estão no documento de apresentação principal."
      ],
      "metadata": {
        "id": "cqbGAwsRw-p9"
      }
    }
  ]
}